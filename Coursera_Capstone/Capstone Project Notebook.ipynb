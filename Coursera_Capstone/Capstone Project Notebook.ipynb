Notebook for the capstone project from course Applied Data Science Capstone by IBM on Coursera
Import libraries.

Lets first import the required libraries.


import pandas as pd
import numpy as n

Simple Test Lets do a simple test to validate our environment.

print('Hello Capstone Project Course!')

Hello Capstone Project Course!
